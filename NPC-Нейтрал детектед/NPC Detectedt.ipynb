{
 "cells": [
  {
   "cell_type": "code",
   "execution_count": null,
   "metadata": {
    "scrolled": true
   },
   "outputs": [
    {
     "name": "stdout",
     "output_type": "stream",
     "text": [
      "-\n",
      "-\n",
      "-\n",
      "-\n",
      "-\n",
      "-\n",
      "-\n",
      "-\n",
      "-\n",
      "-\n",
      "-\n",
      "-\n",
      "-\n",
      "-\n",
      "-\n",
      "-\n",
      "-\n",
      "-\n",
      "-\n",
      "-\n",
      "-\n",
      "-\n",
      "-\n",
      "-\n",
      "-\n",
      "-\n",
      "-\n",
      "-\n",
      "-\n",
      "-\n",
      "-\n",
      "-\n",
      "-\n",
      "-\n",
      "-\n",
      "-\n",
      "-\n",
      "-\n"
     ]
    }
   ],
   "source": [
    "\"\"\"\n",
    "IN.TXT - вводные ники, которые надо обработать\n",
    "OUT.TXT - ники, которые получили сообщение. (после работы, будут ники, которых нет нигде, это значит, что они не получили сообщение)\n",
    "\n",
    "\"\"\"\n",
    "\n",
    "import pyautogui           #работа с картинкамиПриглашение вступить в корпорацию F.13 - Union\n",
    "import time                #таймеры\n",
    "import win32api            #для управления мышью, pyautohui не всегда срабатывает клик\n",
    "import win32con            #для управления мышью, pyautohui не всегда срабатывает клик\n",
    "import win32com.client     #для управления нажатием HOME\n",
    "import random              #рандомПриглашение вступить в корпорацию F.13 - Union\n",
    "import pyperclip           #буфер обмена\n",
    "import pyttsx3             #звук\n",
    "engine = pyttsx3.init()\n",
    "\n",
    "i=1\n",
    "def zvuk(a):\n",
    "    engine.say(a)\n",
    "    engine.runAndWait()\n",
    "    time.sleep(1)\n",
    "    print(\"-\")\n",
    "    \n",
    "while i<3000:  #3600 - час\n",
    "    #engine.say('время')\n",
    "    #engine.runAndWait()\n",
    "    pict = pyautogui.locateOnScreen('Neitral.png', confidence=0.85,region=(2200,50,1900,1600))\n",
    "    if pict:\n",
    "        zvuk(\"Neitral\")\n",
    "    pict = pyautogui.locateOnScreen('npc2.png', confidence=0.85,region=(2200,50,1900,1600))\n",
    "    if pict:\n",
    "        zvuk(\"npc\")\n",
    "    pict = pyautogui.locateOnScreen('npc3.png', confidence=0.85,region=(2200,50,1900,1600))\n",
    "    if pict:\n",
    "        zvuk(\"npc\")\n",
    "    pict=None\n",
    "    i+=1\n",
    "\n",
    "#таймер\n",
    "time.sleep(30)\n",
    "#engine.say('время')\n",
    "#engine.runAndWait()\n",
    "\n",
    "\n",
    "3"
   ]
  },
  {
   "cell_type": "code",
   "execution_count": 1,
   "metadata": {
    "scrolled": true
   },
   "outputs": [
    {
     "ename": "SyntaxError",
     "evalue": "invalid syntax (<ipython-input-1-4716fd553b9b>, line 27)",
     "output_type": "error",
     "traceback": [
      "\u001b[1;36m  File \u001b[1;32m\"<ipython-input-1-4716fd553b9b>\"\u001b[1;36m, line \u001b[1;32m27\u001b[0m\n\u001b[1;33m    def sortirovka\u001b[0m\n\u001b[1;37m                  ^\u001b[0m\n\u001b[1;31mSyntaxError\u001b[0m\u001b[1;31m:\u001b[0m invalid syntax\n"
     ]
    }
   ],
   "source": [
    "    #IN_excel - сюда добавляются пользователи из эксель.     =разделитель '\\u0013\\u0010' (13-enter)\n",
    "#IN_game - сюда добавляются пользователи из чата игры    = разделитель '\\u0010'\n",
    "#in - база всех, кому надо отправить письмо (уникальные) = разделитель ', '\n",
    "#OUT - те, кто получил письмо, заканчивается без запятой\n",
    "#Собираем пользователей из IN_excel и IN_game и IN\n",
    "#проверяем есть ли они в OUT\n",
    "#формируем новый уникальный список\n",
    "#сохраняем в IN\n",
    "#\n",
    "#\n",
    "#\n",
    "\n",
    "import pyautogui           #работа с картинкамиПриглашение вступить в корпорацию F.13 - Union\n",
    "import time                #таймеры\n",
    "import win32api            #для управления мышью, pyautohui не всегда срабатывает клик\n",
    "import win32con            #для управления мышью, pyautohui не всегда срабатывает клик\n",
    "import win32com.client     #для управления нажатием HOME\n",
    "import random              #рандомПриглашение вступить в корпорацию F.13 - Union\n",
    "import pyperclip           #буфер обмена\n",
    "import pyttsx3             #звук\n",
    "engine = pyttsx3.init()\n",
    "import config              #system_error=0; x=0\n",
    "from importlib import reload #перезагруаем модуль каждый раз\n",
    "import config\n",
    "config = reload(config)\n",
    "\n",
    "def sortirovka\n",
    "    \n",
    "    #IN_game формируем массив\n",
    "    with open('in_excel.txt') as file:\n",
    "        on_line_excel = list()\n",
    "        for line in file.readlines(): \n",
    "                on_line_excel.extend(line.rstrip().split('\\u0010'or'\\u0013'or '\\u0013\\u0010')) # Обрезаем каретку переноса строки и делим по пробелу\n",
    "    file.close()\n",
    "    \n",
    "        #IN_game формируем массив\n",
    "        with open('in\n",
    "                  _game.txt') as file:\n",
    "        on_line_game = list()\n",
    "        for line in file.readlines(): \n",
    "            on_line_game.extend(line.rstrip().split('\\u0010'or'\\u0013')) # Обрезаем каретку переноса строки и делим по пробелу\n",
    "    file.close()\n",
    "    \n",
    "    #IN формируем массивgniozd, Rozetto Kichi, Varan Komod, Geradden Astur Esil, Prizrak 070, Interstellar835, ION-2407, Kin DENEG, John41, Atlivald Opper, Limbo Dimbo, Aldo Fox, Sigorus Preld, GILZZA2, Zonz Shipper, vMETZGER, Space Orchid, \"Boris TheBlade Yurinov\", \"Artemis Entreri\"Приглашение вступить в корпорацию F.13 - Union\n",
    "    with open('IN.txt') as file:\n",
    "        on_line_in = list()\n",
    "        for line in file.readlines():\n",
    "            on_line_in.extend(line.rstrip().split(', '))\n",
    "    file.close() \n",
    "            \n",
    "    #OUT формируем массив\n",
    "    with open('out.txt') as file:\n",
    "        out = list()\n",
    "        for line in file.readlines(): \n",
    "            out.extend(line.rstrip().split(', '))\n",
    "    file.close()\n",
    "    print(\"==out\")\n",
    "    print(out[:5],\"..........\",out[-5:])\n",
    "    print(\"==out\")\n",
    "                   \n",
    "    #сложить 3 массива, убрать дубликаты       \n",
    "    on_line_in=on_line_excel+on_line_game+on_line_in\n",
    "    on_line_in=list(set(on_line_in))\n",
    "    print(\"=три массива после фильтра\")\n",
    "    print(on_line_in[:5],\"..........\",on_line_in[-5:])\n",
    "    \n",
    "    #создаем уникальный массив для отправки. проверяем наличие ников из on_line_in в OUT\n",
    "    vivod=list()\n",
    "    for i in range(len(on_line_in)):\n",
    "        if on_line_in[i] not in out:\n",
    "            vivod.append(on_line_in[i])\n",
    "    print (\"= все уникальные\")\n",
    "    print(vivod[:5],\"..........\",vivod[-5:])\n",
    "    \n",
    "    #массив в текст, убрать кавычки и фигурные скобки(пробел+скобка и скобка+запятая)\n",
    "    text=str(vivod)\n",
    "    text=text.replace(chr(123),'').replace(chr(125),'').replace((chr(39)+\",\"),',').replace(\" \"+(chr(39)),' ').replace('\\\\x13, ','').replace('\\\\x13','').replace('\\\"','').replace('\\\\','') \n",
    "    text=text[2:-2]\n",
    "    \n",
    "    #сохранить чистый массив в фаил\n",
    "    f = open('in.txt','w')\n",
    "    f.write(text)\n",
    "    f.close()\n",
    "    print('=сохраняется в in.txt')\n",
    "    print(text[:5],\"..........\",text[-5:])\n",
    "\n",
    "sortirovka()\n",
    "\n"
   ]
  },
  {
   "cell_type": "code",
   "execution_count": null,
   "metadata": {},
   "outputs": [],
   "source": []
  },
  {
   "cell_type": "code",
   "execution_count": 11,
   "metadata": {},
   "outputs": [
    {
     "ename": "NameError",
     "evalue": "name 'os' is not defined",
     "output_type": "error",
     "traceback": [
      "\u001b[1;31m---------------------------------------------------------------\u001b[0m",
      "\u001b[1;31mNameError\u001b[0m                     Traceback (most recent call last)",
      "\u001b[1;32m<ipython-input-11-0a72e093833f>\u001b[0m in \u001b[0;36m<module>\u001b[1;34m\u001b[0m\n\u001b[0;32m      1\u001b[0m \u001b[0mtime\u001b[0m\u001b[1;33m.\u001b[0m\u001b[0msleep\u001b[0m\u001b[1;33m(\u001b[0m\u001b[1;36m8000\u001b[0m\u001b[1;33m)\u001b[0m  \u001b[1;31m#3600 - час\u001b[0m\u001b[1;33m\u001b[0m\u001b[1;33m\u001b[0m\u001b[0m\n\u001b[1;32m----> 2\u001b[1;33m \u001b[0mos\u001b[0m\u001b[1;33m.\u001b[0m\u001b[0msystem\u001b[0m\u001b[1;33m(\u001b[0m\u001b[1;34m\"rundll32.exe powrprof.dll,SetSuspendState 0,1,0\"\u001b[0m\u001b[1;33m)\u001b[0m\u001b[1;33m\u001b[0m\u001b[1;33m\u001b[0m\u001b[0m\n\u001b[0m",
      "\u001b[1;31mNameError\u001b[0m: name 'os' is not defined"
     ]
    }
   ],
   "source": [
    "time.sleep(8000)  #3600 - час\n",
    "os.system(\"rundll32.exe powrprof.dll,SetSuspendState 0,1,0\")"
   ]
  },
  {
   "cell_type": "code",
   "execution_count": null,
   "metadata": {},
   "outputs": [],
   "source": [
    "Evgeny S\n",
    "den4ik"
   ]
  },
  {
   "cell_type": "code",
   "execution_count": null,
   "metadata": {},
   "outputs": [],
   "source": [
    "im2 = pyautogui.screenshot('my_screenshot.png')"
   ]
  },
  {
   "cell_type": "code",
   "execution_count": null,
   "metadata": {},
   "outputs": [],
   "source": [
    "a=\"dsf23 435 34 345 \"\n",
    "a=a.replace(' ', '')\n",
    "print(a)"
   ]
  },
  {
   "cell_type": "code",
   "execution_count": 1,
   "metadata": {},
   "outputs": [
    {
     "name": "stdout",
     "output_type": "stream",
     "text": [
      "2012-12-14\n",
      "datetime.time() 00:00:00\n",
      "datetime.datetime.today() 2021-10-05 02:41:06.995957\n",
      "datetime.datetime.now() 2021-10-05 02:41:06.995956\n",
      "==============\n",
      "delta 0:00:00.400285\n",
      "2017-02-26 00:00:00\n",
      "==============\n",
      "2017\n",
      "10\n",
      "12\n",
      "==============\n",
      "10/05/2021\n",
      "10/41/10m41M21yYY\n"
     ]
    }
   ],
   "source": [
    "import datetime\n",
    "import time\n",
    "d = datetime.date(2012, 12, 14)\n",
    "print(d)\n",
    "print(\"datetime.time()\", datetime.time())\n",
    "print(\"datetime.datetime.today()\", datetime.datetime.today())\n",
    "print(\"datetime.datetime.now()\", datetime.datetime.now())\n",
    "print(\"==============\")\n",
    "now = datetime.datetime.now()\n",
    "time.sleep(0.4)\n",
    "now2 = datetime.datetime.now()\n",
    "delta = now2 - now\n",
    "print(\"delta\", delta)\n",
    "then = datetime.datetime(2017, 2, 26)\n",
    "print(then)\n",
    "print(\"==============\")\n",
    "d = datetime.datetime(2017, 3, 5, 12, 30, 10)\n",
    "print(d.year) # 2017\n",
    "print(d.second) # 10\n",
    "print(d.hour) # 12\n",
    "print(\"==============\")\n",
    "today = datetime.datetime.today()\n",
    "print( today.strftime(\"%m/%d/%Y\") ) # '04/25/2020'\n",
    "print( today.strftime(\"%m/%M/%mm%MM%yyYY\") )\n",
    "\n",
    "\n"
   ]
  },
  {
   "cell_type": "code",
   "execution_count": null,
   "metadata": {},
   "outputs": [],
   "source": [
    "import pyttsx3      #звук\n",
    "engine = pyttsx3.init() #звук\n",
    "engine.say('Проверка закончена')\n",
    "engine.runAndWait()\n",
    "\n",
    "Минералы\t\t\t\t\n",
    "Item\tRequired\tAvailable\tEst. Unit price\ttypeID\n",
    "Tritanium\t3258\t1014785\t6.73\t34\n",
    "Pyerite\t2926\t14190408\t27.24\t35\n",
    "Mexallon\t107\t54000\t179.57\t36\n",
    "\n",
    "Материалы\t\t\t\t\n",
    "Item\tRequired\tAvailable\tEst. Unit price\ttypeID\n",
    "Electronic Link\t2\t0\t44.12\t21587\n",
    "Armor Blocks\t1\t0\t39.61\t21590\n",
    "Guristas Medium Weapon Console\t2\t0\t2655486.37\t21725\n",
    "\n"
   ]
  },
  {
   "cell_type": "code",
   "execution_count": null,
   "metadata": {},
   "outputs": [],
   "source": [
    "time.sleep(1)\n",
    "def analiz_cen():\n",
    "    print(\"B_analiz_cen\")\n",
    "    pause_random(0.9)       \n",
    "    pict = pyautogui.locateOnScreen('Stancia_green_black.png', confidence=0.99,region=(2850,600,200,350))\n",
    "    pict2 = pyautogui.locateOnScreen('Stancia_blue.png', confidence=0.99,region=(2850,600,200,350))\n",
    "    if pict!=None or (pict==None and pict2==None):    #если синяя на 2 месте или вообще нет\n",
    "        print('меняем цену:')\n",
    "        pict = pyautogui.locateOnScreen('Stancia_blue.png', confidence=0.9,region=(2850,600,200,350)) #сред низ\n",
    "        if pict==None:\n",
    "            print(\"Stancia_blue не найдена\")\n",
    "        else:\n",
    "            print(\"блок замены\")\n",
    "    else:\n",
    "        print(\"Изменение цен не требуется\")\n",
    "\n",
    "analiz_cen()        "
   ]
  },
  {
   "cell_type": "code",
   "execution_count": null,
   "metadata": {},
   "outputs": [],
   "source": [
    "import random\n",
    "print(random.uniform(0.5, 1))\n",
    "pause_random \n"
   ]
  },
  {
   "cell_type": "code",
   "execution_count": null,
   "metadata": {},
   "outputs": [],
   "source": [
    "#буфер обмена\n",
    ">>> import pyperclip\n",
    ">>> pyperclip.copy('The text to be copied to the clipboard.')\n",
    ">>> pyperclip.paste()"
   ]
  },
  {
   "cell_type": "code",
   "execution_count": null,
   "metadata": {},
   "outputs": [],
   "source": [
    "#\n",
    "import pytesseract #расознование текста\n",
    "C:\\Program Files\\Tesseract-OCR\n",
    "from PIL import Image\n",
    "from pytesseract import image_to_string\n",
    "#k=pytesseract.image_to_string('1.png')\n",
    "#print(k)\n",
    "print pytesseract.image_to_string(Image.open('1.png'))"
   ]
  },
  {
   "cell_type": "code",
   "execution_count": null,
   "metadata": {},
   "outputs": [],
   "source": [
    "try:\n",
    "    from PIL import Image\n",
    "except ImportError:\n",
    "    import Image\n",
    "import pytesseract\n",
    "\n",
    "def ocr_core(filename):\n",
    "    \"\"\"\n",
    "    This function will handle the core OCR processing of images.\n",
    "    \"\"\"\n",
    "    text = pytesseract.image_to_string(Image.open(filename))  # We'll use Pillow's Image class to open the image and pytesseract to detect the string in the image\n",
    "    return text\n",
    "\n",
    "print(ocr_core('2.png'))"
   ]
  },
  {
   "cell_type": "code",
   "execution_count": null,
   "metadata": {},
   "outputs": [],
   "source": [
    "import pytesseract as tess\n",
    "tess.pytesseract.tesseract_cmd  = r'C:\\Program Files\\Tesseract-OCR\\tesseract.exe'\n",
    "from PIL import Image\n",
    "\n",
    "img = Image.open('11.png')\n",
    "text = tess.image_to_string(img)\n",
    "print(text)"
   ]
  },
  {
   "cell_type": "code",
   "execution_count": null,
   "metadata": {},
   "outputs": [],
   "source": [
    "#https://api.evemarketer.com/ec/marketstat/json?typeid=1000\n",
    "#https://api.evemarketer.com/ec/marketstat?typeid=631&regionlimit=10000002\n",
    "import requests\n",
    "\n",
    "accept= \"application/json\"\n",
    "response = requests.get(https://api.evemarketer.com/ec/marketstat/json) # get-запрос\n",
    "print(response.text) # вывод содержимого страницы"
   ]
  },
  {
   "cell_type": "code",
   "execution_count": null,
   "metadata": {},
   "outputs": [],
   "source": [
    "time.sleep(2)\n",
    "im = pyautogui.screenshot(region=(0,0, 1600, 1600))\n",
    "time.sleep(1)\n",
    "im2 = pyautogui.screenshot(region=(0,0, 1600, 1600))\n",
    "if im==im2:\n",
    "    print('ravno')\n",
    "else:\n",
    "    print(\"net\")\n"
   ]
  },
  {
   "cell_type": "code",
   "execution_count": null,
   "metadata": {},
   "outputs": [],
   "source": [
    "f = open('out.txt','w')\n",
    "f.write(\" \")\n",
    "f.close()"
   ]
  },
  {
   "cell_type": "code",
   "execution_count": null,
   "metadata": {
    "scrolled": false
   },
   "outputs": [],
   "source": [
    "\n",
    "import pyautogui           #работа с картинками\n",
    "import time                #таймеры\n",
    "import win32api            #для управления мышью, pyautohui не всегда срабатывает клик\n",
    "import win32con            #для управления мышью, pyautohui не всегда срабатывает клик\n",
    "import win32com.client     #для управления нажатием HOME\n",
    "import random              #рандом\n",
    "import pyperclip           #буфер обмена\n",
    "import pyttsx3             #звук\n",
    "engine = pyttsx3.init()\n",
    "\n",
    "a=pyperclip.paste()\n",
    "print(a)\n",
    "i=0\n",
    "while i< len(a):\n",
    "    print (ord(a[i]))\n",
    "    i+=1\n",
    "#a=ord(a)\n",
    "print(a)\n",
    "a=(\"aaa\"+chr(7)+chr(32)+\"bbb\"+chr(44)+chr(32)+\"ccc\")\n",
    "print (a)\n",
    "pyperclip.copy(a)"
   ]
  },
  {
   "cell_type": "code",
   "execution_count": null,
   "metadata": {},
   "outputs": [],
   "source": [
    "print(chr(66))\n",
    "a=(\"aaa\"+chr(27)+chr(32)+\"bbb\"+chr(44)+chr(32)+\"ccc\")\n",
    "print (a)"
   ]
  },
  {
   "cell_type": "code",
   "execution_count": null,
   "metadata": {},
   "outputs": [],
   "source": [
    "print(chr(123), chr(125), chr(92),ord(\"\\\\\"),chr(27),chr(22))"
   ]
  },
  {
   "cell_type": "code",
   "execution_count": null,
   "metadata": {},
   "outputs": [],
   "source": [
    "a=[\"1\",\"2\",\"3\",\"2\"]\n",
    "b=\"1\"\n",
    "if b in a:\n",
    "    print(\"da\\\"\")\n",
    "else:\n",
    "    print(\"хуй собачий\")"
   ]
  },
  {
   "cell_type": "code",
   "execution_count": null,
   "metadata": {},
   "outputs": [],
   "source": [
    "    f = open('error.txt','w')\n",
    "    a=\"a\"\n",
    "    f.write(a)\n",
    "    f.close()"
   ]
  },
  {
   "cell_type": "code",
   "execution_count": null,
   "metadata": {},
   "outputs": [],
   "source": [
    "from importlib import reload\n",
    "import config\n",
    "config = reload(config)\n",
    "print(config.x)\n",
    "config.x=3\n",
    "print(config.x)\n",
    "def er():\n",
    "    x=7\n",
    "    config.x=8\n",
    "er()\n",
    "print(x)\n",
    "print(config.x)\n",
    "print(config.systemerror)\n",
    "print(\"system_error=\",config.system_error)\n",
    "config.systemerror=1\n",
    "if config.systemerror in (100,1000,1):\n",
    "    print(\"да\")\n"
   ]
  },
  {
   "cell_type": "code",
   "execution_count": null,
   "metadata": {},
   "outputs": [
    {
     "name": "stdout",
     "output_type": "stream",
     "text": [
      "da\"\n"
     ]
    }
   ],
   "source": [
    "print(\"da\\\"\")\n",
    "time.sleep(6000)\n",
    "os.system(\"rundll32.exe powrprof.dll,SetSuspendState 0,1,0\")"
   ]
  },
  {
   "cell_type": "code",
   "execution_count": 5,
   "metadata": {},
   "outputs": [
    {
     "name": "stdout",
     "output_type": "stream",
     "text": [
      "da\"\n"
     ]
    },
    {
     "data": {
      "text/plain": [
       "0"
      ]
     },
     "execution_count": 5,
     "metadata": {},
     "output_type": "execute_result"
    }
   ],
   "source": [
    "\n",
    "import pyautogui           #работа с картинками\n",
    "import time                #таймеры\n",
    "import os                  #выключение\n",
    "import win32api            #для управления мышью, pyautohui не всегда срабатывает клик\n",
    "import win32con            #для управления мышью, pyautohui не всегда срабатывает клик\n",
    "import win32com.client     #для управления нажатием HOME\n",
    "import random              #рандом\n",
    "import pyperclip           #буфер обмена\n",
    "import pyttsx3             #звук\n",
    "engine = pyttsx3.init()\n",
    "print(\"da\\\"\")\n",
    "time.sleep(6000)\n",
    "os.system(\"rundll32.exe powrprof.dll,SetSuspendState 0,1,0\")"
   ]
  },
  {
   "cell_type": "code",
   "execution_count": null,
   "metadata": {},
   "outputs": [],
   "source": []
  }
 ],
 "metadata": {
  "kernelspec": {
   "display_name": "Python 3",
   "language": "python",
   "name": "python3"
  },
  "language_info": {
   "codemirror_mode": {
    "name": "ipython",
    "version": 3
   },
   "file_extension": ".py",
   "mimetype": "text/x-python",
   "name": "python",
   "nbconvert_exporter": "python",
   "pygments_lexer": "ipython3",
   "version": "3.7.4"
  }
 },
 "nbformat": 4,
 "nbformat_minor": 2
}
