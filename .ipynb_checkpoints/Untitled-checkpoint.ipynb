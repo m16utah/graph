{
 "cells": [
  {
   "cell_type": "code",
   "execution_count": 30,
   "metadata": {},
   "outputs": [
    {
     "name": "stdout",
     "output_type": "stream",
     "text": [
      "[{\"buy\":{\"forQuery\":{\"bid\":true,\"types\":[631],\"regions\":[10000002],\"systems\":[],\"hours\":24,\"minq\":1},\"volume\":861,\"wavg\":5280960.54,\"avg\":5187727.08,\"variance\":1340971256624.56,\"stdDev\":1158003.13,\"median\":6000164.69,\"fivePercent\":6001809.76,\"max\":6001809.78,\"min\":2845555.00,\"highToLow\":true,\"generated\":1583000006897},\"sell\":{\"forQuery\":{\"bid\":false,\"types\":[631],\"regions\":[10000002],\"systems\":[],\"hours\":24,\"minq\":1},\"volume\":259,\"wavg\":9720074.66,\"avg\":9109088.95,\"variance\":2221814951086.82,\"stdDev\":1490575.38,\"median\":9799996.41,\"fivePercent\":6338461.53,\"max\":10499999.00,\"min\":5999999.99,\"highToLow\":false,\"generated\":1583000006897}}]\n",
      "\n"
     ]
    },
    {
     "ename": "TypeError",
     "evalue": "the JSON object must be str, bytes or bytearray, not function",
     "output_type": "error",
     "traceback": [
      "\u001b[1;31m---------------------------------------------------------------------------\u001b[0m",
      "\u001b[1;31mTypeError\u001b[0m                                 Traceback (most recent call last)",
      "\u001b[1;32m<ipython-input-30-281bff1c02aa>\u001b[0m in \u001b[0;36m<module>\u001b[1;34m\u001b[0m\n\u001b[0;32m      6\u001b[0m \u001b[0mresponse\u001b[0m \u001b[1;33m=\u001b[0m \u001b[0mrequests\u001b[0m\u001b[1;33m.\u001b[0m\u001b[0mget\u001b[0m\u001b[1;33m(\u001b[0m\u001b[1;34m\"https://api.evemarketer.com/ec/marketstat/json?typeid=631&regionlimit=10000002\"\u001b[0m\u001b[1;33m)\u001b[0m \u001b[1;31m# get-запрос\u001b[0m\u001b[1;33m\u001b[0m\u001b[1;33m\u001b[0m\u001b[0m\n\u001b[0;32m      7\u001b[0m \u001b[0mprint\u001b[0m\u001b[1;33m(\u001b[0m\u001b[0mresponse\u001b[0m\u001b[1;33m.\u001b[0m\u001b[0mtext\u001b[0m\u001b[1;33m)\u001b[0m\u001b[1;33m\u001b[0m\u001b[1;33m\u001b[0m\u001b[0m\n\u001b[1;32m----> 8\u001b[1;33m \u001b[0mmedia\u001b[0m \u001b[1;33m=\u001b[0m \u001b[0mjson\u001b[0m\u001b[1;33m.\u001b[0m\u001b[0mloads\u001b[0m\u001b[1;33m(\u001b[0m\u001b[0mrequests\u001b[0m\u001b[1;33m.\u001b[0m\u001b[0mget\u001b[0m\u001b[1;33m)\u001b[0m\u001b[1;33m\u001b[0m\u001b[1;33m\u001b[0m\u001b[0m\n\u001b[0m\u001b[0;32m      9\u001b[0m \u001b[0mprint\u001b[0m\u001b[1;33m(\u001b[0m\u001b[0mmedia\u001b[0m\u001b[1;33m)\u001b[0m\u001b[1;33m\u001b[0m\u001b[1;33m\u001b[0m\u001b[0m\n\u001b[0;32m     10\u001b[0m \u001b[0mprint\u001b[0m\u001b[1;33m(\u001b[0m\u001b[0mmedia\u001b[0m\u001b[1;33m[\u001b[0m\u001b[1;34m'buy'\u001b[0m\u001b[1;33m]\u001b[0m\u001b[1;33m)\u001b[0m\u001b[1;33m\u001b[0m\u001b[1;33m\u001b[0m\u001b[0m\n",
      "\u001b[1;32mc:\\users\\user\\appdata\\local\\programs\\python\\python37-32\\lib\\json\\__init__.py\u001b[0m in \u001b[0;36mloads\u001b[1;34m(s, encoding, cls, object_hook, parse_float, parse_int, parse_constant, object_pairs_hook, **kw)\u001b[0m\n\u001b[0;32m    339\u001b[0m     \u001b[1;32melse\u001b[0m\u001b[1;33m:\u001b[0m\u001b[1;33m\u001b[0m\u001b[1;33m\u001b[0m\u001b[0m\n\u001b[0;32m    340\u001b[0m         \u001b[1;32mif\u001b[0m \u001b[1;32mnot\u001b[0m \u001b[0misinstance\u001b[0m\u001b[1;33m(\u001b[0m\u001b[0ms\u001b[0m\u001b[1;33m,\u001b[0m \u001b[1;33m(\u001b[0m\u001b[0mbytes\u001b[0m\u001b[1;33m,\u001b[0m \u001b[0mbytearray\u001b[0m\u001b[1;33m)\u001b[0m\u001b[1;33m)\u001b[0m\u001b[1;33m:\u001b[0m\u001b[1;33m\u001b[0m\u001b[1;33m\u001b[0m\u001b[0m\n\u001b[1;32m--> 341\u001b[1;33m             raise TypeError(f'the JSON object must be str, bytes or bytearray, '\n\u001b[0m\u001b[0;32m    342\u001b[0m                             f'not {s.__class__.__name__}')\n\u001b[0;32m    343\u001b[0m         \u001b[0ms\u001b[0m \u001b[1;33m=\u001b[0m \u001b[0ms\u001b[0m\u001b[1;33m.\u001b[0m\u001b[0mdecode\u001b[0m\u001b[1;33m(\u001b[0m\u001b[0mdetect_encoding\u001b[0m\u001b[1;33m(\u001b[0m\u001b[0ms\u001b[0m\u001b[1;33m)\u001b[0m\u001b[1;33m,\u001b[0m \u001b[1;34m'surrogatepass'\u001b[0m\u001b[1;33m)\u001b[0m\u001b[1;33m\u001b[0m\u001b[1;33m\u001b[0m\u001b[0m\n",
      "\u001b[1;31mTypeError\u001b[0m: the JSON object must be str, bytes or bytearray, not function"
     ]
    }
   ],
   "source": [
    "#https://api.evemarketer.com/ec/marketstat/json?typeid=1000\n",
    "#https://api.evemarketer.com/ec/marketstat?typeid=631&regionlimit=10000002\n",
    "import requests\n",
    "import json\n",
    "\n",
    "response = requests.get(\"https://api.evemarketer.com/ec/marketstat/json?typeid=631&regionlimit=10000002\") # get-запрос\n",
    "print(response.text) \n",
    "media = json.loads(requests.get)\n",
    "print(media)\n",
    "print(media['buy'])"
   ]
  },
  {
   "cell_type": "code",
   "execution_count": null,
   "metadata": {},
   "outputs": [],
   "source": [
    "import pyautogui    #работа с картинками\n",
    "m1 = pyautogui.screenshot()\n",
    "m1.save('my_screenshot.png')"
   ]
  },
  {
   "cell_type": "code",
   "execution_count": 67,
   "metadata": {},
   "outputs": [
    {
     "name": "stdout",
     "output_type": "stream",
     "text": [
      "39000000.01\n",
      "==================\n",
      "43999998.93\n",
      "==================\n",
      "[{'buy': {'forQuery': {'bid': True, 'types': [29336], 'regions': [10000002], 'systems': [30000142], 'hours': 24, 'minq': 1}, 'volume': 79, 'wavg': 33622548.22, 'avg': 33278245.28, 'variance': 30535564532553.09, 'stdDev': 5525899.43, 'median': 38000004.03, 'fivePercent': 38032263.92, 'max': 39000000.01, 'min': 23600000.0, 'highToLow': True, 'generated': 1583057098535}, 'sell': {'forQuery': {'bid': False, 'types': [29336], 'regions': [10000002], 'systems': [30000142], 'hours': 24, 'minq': 1}, 'volume': 450, 'wavg': 51664365.18, 'avg': 52145178.12, 'variance': 54959407916543.79, 'stdDev': 7413461.26, 'median': 52620527.48, 'fivePercent': 43999999.81, 'max': 74200284.33, 'min': 43999998.93, 'highToLow': False, 'generated': 1583057098535}}]\n"
     ]
    }
   ],
   "source": [
    "import json\n",
    "import requests\n",
    "\n",
    "CampaignsURL = 'https://api.direct.yandex.com/json/v5/campaigns'\n",
    "#jsonBody = json.dumps(body, ensure_ascii=False).encode('utf8')\n",
    "\n",
    "result = requests.get(\"https://api.evemarketer.com/ec/marketstat/json?typeid=29336&regionlimit=10000002&usesystem=30000142\")\n",
    "result_JSON=result.json()\n",
    "            \n",
    "print(result_JSON[0][\"buy\"][\"max\"])\n",
    "print('==================')\n",
    "print(result_JSON[0][\"sell\"][\"min\"])\n",
    "print('==================')\n",
    "print(result_JSON)\n"
   ]
  },
  {
   "cell_type": "code",
   "execution_count": null,
   "metadata": {},
   "outputs": [],
   "source": [
    "[{'buy': {'forQuery': {'bid': True, 'types': [631], 'regions': [10000002], 'systems': [], 'hours': 24, 'minq': 1}, 'volume': 860, 'wavg': 5280150.62, 'avg': 5165151.13, 'variance': 1359888071015.02, 'stdDev': 1166142.39, 'median': 6000158.91, 'fivePercent': 6002001.11, 'max': 6002001.12, 'min': 2845555.0, 'highToLow': True, 'generated': 1583015710852}, 'sell': {'forQuery': {'bid': False, 'types': [631], 'regions': [10000002], 'systems': [], 'hours': 24, 'minq': 1}, 'volume': 253, 'wavg': 9715016.27, 'avg': 9034998.06, 'variance': 2391864898816.14, 'stdDev': 1546565.52, 'median': 9799994.2, 'fivePercent': 6338461.53, 'max': 10499999.0, 'min': 5999999.99, 'highToLow': False, 'generated': 1583015710852}}]\n",
    "\n",
    "\n",
    "\n",
    "\n",
    "CampaignsURL = 'https://api.direct.yandex.com/json/v5/campaigns'\n",
    "jsonBody = json.dumps(body, ensure_ascii=False).encode('utf8')\n",
    "\n",
    "result = requests.post(CampaignsURL, jsonBody, headers=headers)\n",
    "print(\"Заголовки запроса: {}\".format(result.request.headers))\n",
    "print(\"Запрос: {}\".format(u(result.request.body)))\n",
    "print(\"Заголовки ответа: {}\".format(result.headers))\n",
    "print(\"Ответ: {}\".format(u(result.text)))\n",
    "print(\"\\n\")\n",
    "            \n",
    "print(\"RequestId: {}\".format(result.headers.get(\"RequestId\", False)))\n",
    "\n"
   ]
  }
 ],
 "metadata": {
  "kernelspec": {
   "display_name": "Python 3",
   "language": "python",
   "name": "python3"
  },
  "language_info": {
   "codemirror_mode": {
    "name": "ipython",
    "version": 3
   },
   "file_extension": ".py",
   "mimetype": "text/x-python",
   "name": "python",
   "nbconvert_exporter": "python",
   "pygments_lexer": "ipython3",
   "version": "3.7.4"
  }
 },
 "nbformat": 4,
 "nbformat_minor": 2
}
